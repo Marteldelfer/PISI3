{
  "nbformat": 4,
  "nbformat_minor": 0,
  "metadata": {
    "colab": {
      "provenance": [],
      "authorship_tag": "ABX9TyP02g/9Mnq5KuAIhN23Jtpr",
      "include_colab_link": true
    },
    "kernelspec": {
      "name": "python3",
      "display_name": "Python 3"
    },
    "language_info": {
      "name": "python"
    }
  },
  "cells": [
    {
      "cell_type": "markdown",
      "metadata": {
        "id": "view-in-github",
        "colab_type": "text"
      },
      "source": [
        "<a href=\"https://colab.research.google.com/github/Marteldelfer/PISI3/blob/analise-exploratoria/Limpeza_dos_dados.ipynb\" target=\"_parent\"><img src=\"https://colab.research.google.com/assets/colab-badge.svg\" alt=\"Open In Colab\"/></a>"
      ]
    },
    {
      "cell_type": "markdown",
      "source": [
        "# TMDB\n",
        "\n",
        "Neste trabalhos usaremos uma base de dados do TMDB para resolver problemas usando Inteligência Artificial. O TMDB é uma base de dados online muito completa que trata sobre filmes.\n"
      ],
      "metadata": {
        "id": "sstXlIAKglt3"
      }
    },
    {
      "cell_type": "markdown",
      "source": [
        "## Limpeza de dados\n"
      ],
      "metadata": {
        "id": "ecb8Q1zvhNX2"
      }
    },
    {
      "cell_type": "markdown",
      "source": [
        "Carregando base de dados"
      ],
      "metadata": {
        "id": "tGJJcw5hiOrn"
      }
    },
    {
      "cell_type": "code",
      "execution_count": 2,
      "metadata": {
        "id": "mn8MPhJogOod"
      },
      "outputs": [],
      "source": [
        "''' Importando dependências '''\n",
        "\n",
        "import pandas as pd\n"
      ]
    },
    {
      "cell_type": "code",
      "source": [
        "'''Lendo csv'''\n",
        "\n",
        "# Caminho para o seu arquivo CSV\n",
        "caminho_csv = 'tmdb.csv'\n",
        "\n",
        "# Lê o CSV\n",
        "df = pd.read_csv(caminho_csv)\n",
        "\n",
        "num_lines = df.shape[0]\n",
        "print(f'O dataset tem {num_lines} linhas')\n",
        "\n",
        "print('=-'*30)\n",
        "print('Os atributos são listados abaixo')\n",
        "attributes = df.columns.tolist()\n",
        "for attribute in attributes:\n",
        "  print(attribute)\n"
      ],
      "metadata": {
        "colab": {
          "base_uri": "https://localhost:8080/"
        },
        "id": "iEL75b6dhexP",
        "outputId": "65be1efc-41e6-44e5-c70b-8db3784ec0c1"
      },
      "execution_count": 37,
      "outputs": [
        {
          "output_type": "stream",
          "name": "stdout",
          "text": [
            "O dataset tem 14999 linhas\n",
            "=-=-=-=-=-=-=-=-=-=-=-=-=-=-=-=-=-=-=-=-=-=-=-=-=-=-=-=-=-=-\n",
            "Os atributos são listados abaixo\n",
            "id\n",
            "title\n",
            "overview\n",
            "release_date\n",
            "runtime\n",
            "genres\n",
            "original_language\n",
            "budget\n",
            "revenue\n",
            "popularity\n",
            "vote_average\n",
            "vote_count\n",
            "cast\n",
            "crew\n",
            "production_companies\n",
            "production_countries\n",
            "poster_path\n",
            "backdrop_path\n",
            "tagline\n",
            "status\n"
          ]
        }
      ]
    },
    {
      "cell_type": "markdown",
      "source": [
        "\n",
        "Tratando valores faltantes\n"
      ],
      "metadata": {
        "id": "G6i65gksiHWv"
      }
    },
    {
      "cell_type": "code",
      "source": [
        "df_v1 = df.dropna()\n",
        "df_v1.to_csv('tmdb_v1.csv', index=False)\n",
        "\n",
        "num_lines = df_v1.shape[0]\n",
        "print(f'O dataset tem {num_lines} linhas')\n"
      ],
      "metadata": {
        "colab": {
          "base_uri": "https://localhost:8080/"
        },
        "id": "YbPwtMqRiU43",
        "outputId": "4126f3cf-42c9-41e0-a854-fb1fd8984ecb"
      },
      "execution_count": 13,
      "outputs": [
        {
          "output_type": "stream",
          "name": "stdout",
          "text": [
            "O dataset tem 10575 linhas\n"
          ]
        }
      ]
    },
    {
      "cell_type": "markdown",
      "source": [
        "Retirando os filmes que ainda não foram lançados"
      ],
      "metadata": {
        "id": "wJRikqfgjZoA"
      }
    },
    {
      "cell_type": "code",
      "source": [
        "df_v2 = df_v1[df['status'] == 'Released']\n",
        "\n",
        "# Salva o resultado em um novo CSV\n",
        "df_v2.to_csv('tmdb_v2.csv', index=False)\n",
        "\n",
        "num_lines = df_v2.shape[0]\n",
        "print(f'O dataset tem {num_lines} linhas')"
      ],
      "metadata": {
        "colab": {
          "base_uri": "https://localhost:8080/"
        },
        "id": "lkiDEhb0iaaX",
        "outputId": "a5b32ee1-b58c-4773-f788-6fac330f8e80"
      },
      "execution_count": 17,
      "outputs": [
        {
          "output_type": "stream",
          "name": "stderr",
          "text": [
            "<ipython-input-17-61f4a455896c>:1: UserWarning: Boolean Series key will be reindexed to match DataFrame index.\n",
            "  df_v2 = df_v1[df['status'] == 'Released']\n"
          ]
        },
        {
          "output_type": "stream",
          "name": "stdout",
          "text": [
            "O dataset tem 10547 linhas\n"
          ]
        }
      ]
    },
    {
      "cell_type": "markdown",
      "source": [
        "## Análise de atributos\n"
      ],
      "metadata": {
        "id": "C5F5un4GkSXe"
      }
    },
    {
      "cell_type": "markdown",
      "source": [
        "Note que podemos excluir alguns atributos da análise. Por exemplo, na seção anterior retiramos os filmes que ainda não foram lançados. Assim, o atributo status pode ser retirado da análise.\n",
        "\n",
        "Além disso, os atributos overview,poster_path,back_drop_path e tagline serão retirados\n"
      ],
      "metadata": {
        "id": "R1Gvt64boQa3"
      }
    },
    {
      "cell_type": "code",
      "source": [
        "df_v3 = pd.read_csv('tmdb_v2.csv')\n",
        "\n",
        "df_v3 = df_v3.drop(columns=['overview','poster_path', 'backdrop_path', 'status', 'tagline'])\n",
        "\n",
        "df_v3.to_csv('tmdb_v3.csv', index=False)\n",
        "\n",
        "df_v3.head()"
      ],
      "metadata": {
        "colab": {
          "base_uri": "https://localhost:8080/",
          "height": 694
        },
        "id": "lq-MePV5qD8_",
        "outputId": "2d27611d-9e4c-4216-8e06-02d059a3e56b"
      },
      "execution_count": 26,
      "outputs": [
        {
          "output_type": "execute_result",
          "data": {
            "text/plain": [
              "        id                  title release_date  runtime  \\\n",
              "0  1034541            Terrifier 3   2024-10-09      125   \n",
              "1   912649  Venom: The Last Dance   2024-10-22      109   \n",
              "2  1184918         The Wild Robot   2024-09-12      102   \n",
              "3   933260          The Substance   2024-09-07      141   \n",
              "4   698687       Transformers One   2024-09-11      104   \n",
              "\n",
              "                                          genres original_language     budget  \\\n",
              "0                      Horror, Thriller, Mystery                en    2000000   \n",
              "1             Science Fiction, Action, Adventure                en  120000000   \n",
              "2             Animation, Science Fiction, Family                en   78000000   \n",
              "3                 Drama, Horror, Science Fiction                en   17500000   \n",
              "4  Animation, Science Fiction, Adventure, Family                en   75000000   \n",
              "\n",
              "     revenue  popularity  vote_average  vote_count  \\\n",
              "0   78573405    3304.003         6.900         886   \n",
              "1  394000000    3930.216         6.385         658   \n",
              "2  292583746    2214.674         8.500        2721   \n",
              "3   46818041    1893.832         7.300        1809   \n",
              "4  124530200    1550.314         8.100         651   \n",
              "\n",
              "                                                cast  \\\n",
              "0  Lauren LaVera, Elliott Fullam, David Howard Th...   \n",
              "1  Tom Hardy, Chiwetel Ejiofor, Juno Temple, Clar...   \n",
              "2  Lupita Nyong'o, Pedro Pascal, Kit Connor, Bill...   \n",
              "3  Demi Moore, Margaret Qualley, Dennis Quaid, Ed...   \n",
              "4  Chris Hemsworth, Brian Tyree Henry, Scarlett J...   \n",
              "\n",
              "                                                crew  \\\n",
              "0  Chris McGurk, Phil Falcone, G. Brandon Hill, B...   \n",
              "1  David Michelinie, Todd McFarlane, Avi Arad, Ke...   \n",
              "2  Dean DeBlois, Chris Sanders, Chris Sanders, Je...   \n",
              "3  Matthieu de la Mortière, Anne Juin, Erik Baier...   \n",
              "4  Frazer Churchill, Rob Coleman, Stephen King, C...   \n",
              "\n",
              "                                production_companies      production_countries  \n",
              "0  Cineverse, Bloody Disgusting, Dark Age Cinema,...  United States of America  \n",
              "1  Columbia Pictures, Pascal Pictures, Matt Tolma...  United States of America  \n",
              "2                               DreamWorks Animation  United States of America  \n",
              "3                    Working Title Films, Blacksmith    France, United Kingdom  \n",
              "4  Paramount Animation, di Bonaventura Pictures, ...  United States of America  "
            ],
            "text/html": [
              "\n",
              "  <div id=\"df-556ca574-fdd8-4ff7-8ac8-9bff663da22b\" class=\"colab-df-container\">\n",
              "    <div>\n",
              "<style scoped>\n",
              "    .dataframe tbody tr th:only-of-type {\n",
              "        vertical-align: middle;\n",
              "    }\n",
              "\n",
              "    .dataframe tbody tr th {\n",
              "        vertical-align: top;\n",
              "    }\n",
              "\n",
              "    .dataframe thead th {\n",
              "        text-align: right;\n",
              "    }\n",
              "</style>\n",
              "<table border=\"1\" class=\"dataframe\">\n",
              "  <thead>\n",
              "    <tr style=\"text-align: right;\">\n",
              "      <th></th>\n",
              "      <th>id</th>\n",
              "      <th>title</th>\n",
              "      <th>release_date</th>\n",
              "      <th>runtime</th>\n",
              "      <th>genres</th>\n",
              "      <th>original_language</th>\n",
              "      <th>budget</th>\n",
              "      <th>revenue</th>\n",
              "      <th>popularity</th>\n",
              "      <th>vote_average</th>\n",
              "      <th>vote_count</th>\n",
              "      <th>cast</th>\n",
              "      <th>crew</th>\n",
              "      <th>production_companies</th>\n",
              "      <th>production_countries</th>\n",
              "    </tr>\n",
              "  </thead>\n",
              "  <tbody>\n",
              "    <tr>\n",
              "      <th>0</th>\n",
              "      <td>1034541</td>\n",
              "      <td>Terrifier 3</td>\n",
              "      <td>2024-10-09</td>\n",
              "      <td>125</td>\n",
              "      <td>Horror, Thriller, Mystery</td>\n",
              "      <td>en</td>\n",
              "      <td>2000000</td>\n",
              "      <td>78573405</td>\n",
              "      <td>3304.003</td>\n",
              "      <td>6.900</td>\n",
              "      <td>886</td>\n",
              "      <td>Lauren LaVera, Elliott Fullam, David Howard Th...</td>\n",
              "      <td>Chris McGurk, Phil Falcone, G. Brandon Hill, B...</td>\n",
              "      <td>Cineverse, Bloody Disgusting, Dark Age Cinema,...</td>\n",
              "      <td>United States of America</td>\n",
              "    </tr>\n",
              "    <tr>\n",
              "      <th>1</th>\n",
              "      <td>912649</td>\n",
              "      <td>Venom: The Last Dance</td>\n",
              "      <td>2024-10-22</td>\n",
              "      <td>109</td>\n",
              "      <td>Science Fiction, Action, Adventure</td>\n",
              "      <td>en</td>\n",
              "      <td>120000000</td>\n",
              "      <td>394000000</td>\n",
              "      <td>3930.216</td>\n",
              "      <td>6.385</td>\n",
              "      <td>658</td>\n",
              "      <td>Tom Hardy, Chiwetel Ejiofor, Juno Temple, Clar...</td>\n",
              "      <td>David Michelinie, Todd McFarlane, Avi Arad, Ke...</td>\n",
              "      <td>Columbia Pictures, Pascal Pictures, Matt Tolma...</td>\n",
              "      <td>United States of America</td>\n",
              "    </tr>\n",
              "    <tr>\n",
              "      <th>2</th>\n",
              "      <td>1184918</td>\n",
              "      <td>The Wild Robot</td>\n",
              "      <td>2024-09-12</td>\n",
              "      <td>102</td>\n",
              "      <td>Animation, Science Fiction, Family</td>\n",
              "      <td>en</td>\n",
              "      <td>78000000</td>\n",
              "      <td>292583746</td>\n",
              "      <td>2214.674</td>\n",
              "      <td>8.500</td>\n",
              "      <td>2721</td>\n",
              "      <td>Lupita Nyong'o, Pedro Pascal, Kit Connor, Bill...</td>\n",
              "      <td>Dean DeBlois, Chris Sanders, Chris Sanders, Je...</td>\n",
              "      <td>DreamWorks Animation</td>\n",
              "      <td>United States of America</td>\n",
              "    </tr>\n",
              "    <tr>\n",
              "      <th>3</th>\n",
              "      <td>933260</td>\n",
              "      <td>The Substance</td>\n",
              "      <td>2024-09-07</td>\n",
              "      <td>141</td>\n",
              "      <td>Drama, Horror, Science Fiction</td>\n",
              "      <td>en</td>\n",
              "      <td>17500000</td>\n",
              "      <td>46818041</td>\n",
              "      <td>1893.832</td>\n",
              "      <td>7.300</td>\n",
              "      <td>1809</td>\n",
              "      <td>Demi Moore, Margaret Qualley, Dennis Quaid, Ed...</td>\n",
              "      <td>Matthieu de la Mortière, Anne Juin, Erik Baier...</td>\n",
              "      <td>Working Title Films, Blacksmith</td>\n",
              "      <td>France, United Kingdom</td>\n",
              "    </tr>\n",
              "    <tr>\n",
              "      <th>4</th>\n",
              "      <td>698687</td>\n",
              "      <td>Transformers One</td>\n",
              "      <td>2024-09-11</td>\n",
              "      <td>104</td>\n",
              "      <td>Animation, Science Fiction, Adventure, Family</td>\n",
              "      <td>en</td>\n",
              "      <td>75000000</td>\n",
              "      <td>124530200</td>\n",
              "      <td>1550.314</td>\n",
              "      <td>8.100</td>\n",
              "      <td>651</td>\n",
              "      <td>Chris Hemsworth, Brian Tyree Henry, Scarlett J...</td>\n",
              "      <td>Frazer Churchill, Rob Coleman, Stephen King, C...</td>\n",
              "      <td>Paramount Animation, di Bonaventura Pictures, ...</td>\n",
              "      <td>United States of America</td>\n",
              "    </tr>\n",
              "  </tbody>\n",
              "</table>\n",
              "</div>\n",
              "    <div class=\"colab-df-buttons\">\n",
              "\n",
              "  <div class=\"colab-df-container\">\n",
              "    <button class=\"colab-df-convert\" onclick=\"convertToInteractive('df-556ca574-fdd8-4ff7-8ac8-9bff663da22b')\"\n",
              "            title=\"Convert this dataframe to an interactive table.\"\n",
              "            style=\"display:none;\">\n",
              "\n",
              "  <svg xmlns=\"http://www.w3.org/2000/svg\" height=\"24px\" viewBox=\"0 -960 960 960\">\n",
              "    <path d=\"M120-120v-720h720v720H120Zm60-500h600v-160H180v160Zm220 220h160v-160H400v160Zm0 220h160v-160H400v160ZM180-400h160v-160H180v160Zm440 0h160v-160H620v160ZM180-180h160v-160H180v160Zm440 0h160v-160H620v160Z\"/>\n",
              "  </svg>\n",
              "    </button>\n",
              "\n",
              "  <style>\n",
              "    .colab-df-container {\n",
              "      display:flex;\n",
              "      gap: 12px;\n",
              "    }\n",
              "\n",
              "    .colab-df-convert {\n",
              "      background-color: #E8F0FE;\n",
              "      border: none;\n",
              "      border-radius: 50%;\n",
              "      cursor: pointer;\n",
              "      display: none;\n",
              "      fill: #1967D2;\n",
              "      height: 32px;\n",
              "      padding: 0 0 0 0;\n",
              "      width: 32px;\n",
              "    }\n",
              "\n",
              "    .colab-df-convert:hover {\n",
              "      background-color: #E2EBFA;\n",
              "      box-shadow: 0px 1px 2px rgba(60, 64, 67, 0.3), 0px 1px 3px 1px rgba(60, 64, 67, 0.15);\n",
              "      fill: #174EA6;\n",
              "    }\n",
              "\n",
              "    .colab-df-buttons div {\n",
              "      margin-bottom: 4px;\n",
              "    }\n",
              "\n",
              "    [theme=dark] .colab-df-convert {\n",
              "      background-color: #3B4455;\n",
              "      fill: #D2E3FC;\n",
              "    }\n",
              "\n",
              "    [theme=dark] .colab-df-convert:hover {\n",
              "      background-color: #434B5C;\n",
              "      box-shadow: 0px 1px 3px 1px rgba(0, 0, 0, 0.15);\n",
              "      filter: drop-shadow(0px 1px 2px rgba(0, 0, 0, 0.3));\n",
              "      fill: #FFFFFF;\n",
              "    }\n",
              "  </style>\n",
              "\n",
              "    <script>\n",
              "      const buttonEl =\n",
              "        document.querySelector('#df-556ca574-fdd8-4ff7-8ac8-9bff663da22b button.colab-df-convert');\n",
              "      buttonEl.style.display =\n",
              "        google.colab.kernel.accessAllowed ? 'block' : 'none';\n",
              "\n",
              "      async function convertToInteractive(key) {\n",
              "        const element = document.querySelector('#df-556ca574-fdd8-4ff7-8ac8-9bff663da22b');\n",
              "        const dataTable =\n",
              "          await google.colab.kernel.invokeFunction('convertToInteractive',\n",
              "                                                    [key], {});\n",
              "        if (!dataTable) return;\n",
              "\n",
              "        const docLinkHtml = 'Like what you see? Visit the ' +\n",
              "          '<a target=\"_blank\" href=https://colab.research.google.com/notebooks/data_table.ipynb>data table notebook</a>'\n",
              "          + ' to learn more about interactive tables.';\n",
              "        element.innerHTML = '';\n",
              "        dataTable['output_type'] = 'display_data';\n",
              "        await google.colab.output.renderOutput(dataTable, element);\n",
              "        const docLink = document.createElement('div');\n",
              "        docLink.innerHTML = docLinkHtml;\n",
              "        element.appendChild(docLink);\n",
              "      }\n",
              "    </script>\n",
              "  </div>\n",
              "\n",
              "\n",
              "<div id=\"df-2bb47a9f-91ff-4088-a8f2-b546c074741a\">\n",
              "  <button class=\"colab-df-quickchart\" onclick=\"quickchart('df-2bb47a9f-91ff-4088-a8f2-b546c074741a')\"\n",
              "            title=\"Suggest charts\"\n",
              "            style=\"display:none;\">\n",
              "\n",
              "<svg xmlns=\"http://www.w3.org/2000/svg\" height=\"24px\"viewBox=\"0 0 24 24\"\n",
              "     width=\"24px\">\n",
              "    <g>\n",
              "        <path d=\"M19 3H5c-1.1 0-2 .9-2 2v14c0 1.1.9 2 2 2h14c1.1 0 2-.9 2-2V5c0-1.1-.9-2-2-2zM9 17H7v-7h2v7zm4 0h-2V7h2v10zm4 0h-2v-4h2v4z\"/>\n",
              "    </g>\n",
              "</svg>\n",
              "  </button>\n",
              "\n",
              "<style>\n",
              "  .colab-df-quickchart {\n",
              "      --bg-color: #E8F0FE;\n",
              "      --fill-color: #1967D2;\n",
              "      --hover-bg-color: #E2EBFA;\n",
              "      --hover-fill-color: #174EA6;\n",
              "      --disabled-fill-color: #AAA;\n",
              "      --disabled-bg-color: #DDD;\n",
              "  }\n",
              "\n",
              "  [theme=dark] .colab-df-quickchart {\n",
              "      --bg-color: #3B4455;\n",
              "      --fill-color: #D2E3FC;\n",
              "      --hover-bg-color: #434B5C;\n",
              "      --hover-fill-color: #FFFFFF;\n",
              "      --disabled-bg-color: #3B4455;\n",
              "      --disabled-fill-color: #666;\n",
              "  }\n",
              "\n",
              "  .colab-df-quickchart {\n",
              "    background-color: var(--bg-color);\n",
              "    border: none;\n",
              "    border-radius: 50%;\n",
              "    cursor: pointer;\n",
              "    display: none;\n",
              "    fill: var(--fill-color);\n",
              "    height: 32px;\n",
              "    padding: 0;\n",
              "    width: 32px;\n",
              "  }\n",
              "\n",
              "  .colab-df-quickchart:hover {\n",
              "    background-color: var(--hover-bg-color);\n",
              "    box-shadow: 0 1px 2px rgba(60, 64, 67, 0.3), 0 1px 3px 1px rgba(60, 64, 67, 0.15);\n",
              "    fill: var(--button-hover-fill-color);\n",
              "  }\n",
              "\n",
              "  .colab-df-quickchart-complete:disabled,\n",
              "  .colab-df-quickchart-complete:disabled:hover {\n",
              "    background-color: var(--disabled-bg-color);\n",
              "    fill: var(--disabled-fill-color);\n",
              "    box-shadow: none;\n",
              "  }\n",
              "\n",
              "  .colab-df-spinner {\n",
              "    border: 2px solid var(--fill-color);\n",
              "    border-color: transparent;\n",
              "    border-bottom-color: var(--fill-color);\n",
              "    animation:\n",
              "      spin 1s steps(1) infinite;\n",
              "  }\n",
              "\n",
              "  @keyframes spin {\n",
              "    0% {\n",
              "      border-color: transparent;\n",
              "      border-bottom-color: var(--fill-color);\n",
              "      border-left-color: var(--fill-color);\n",
              "    }\n",
              "    20% {\n",
              "      border-color: transparent;\n",
              "      border-left-color: var(--fill-color);\n",
              "      border-top-color: var(--fill-color);\n",
              "    }\n",
              "    30% {\n",
              "      border-color: transparent;\n",
              "      border-left-color: var(--fill-color);\n",
              "      border-top-color: var(--fill-color);\n",
              "      border-right-color: var(--fill-color);\n",
              "    }\n",
              "    40% {\n",
              "      border-color: transparent;\n",
              "      border-right-color: var(--fill-color);\n",
              "      border-top-color: var(--fill-color);\n",
              "    }\n",
              "    60% {\n",
              "      border-color: transparent;\n",
              "      border-right-color: var(--fill-color);\n",
              "    }\n",
              "    80% {\n",
              "      border-color: transparent;\n",
              "      border-right-color: var(--fill-color);\n",
              "      border-bottom-color: var(--fill-color);\n",
              "    }\n",
              "    90% {\n",
              "      border-color: transparent;\n",
              "      border-bottom-color: var(--fill-color);\n",
              "    }\n",
              "  }\n",
              "</style>\n",
              "\n",
              "  <script>\n",
              "    async function quickchart(key) {\n",
              "      const quickchartButtonEl =\n",
              "        document.querySelector('#' + key + ' button');\n",
              "      quickchartButtonEl.disabled = true;  // To prevent multiple clicks.\n",
              "      quickchartButtonEl.classList.add('colab-df-spinner');\n",
              "      try {\n",
              "        const charts = await google.colab.kernel.invokeFunction(\n",
              "            'suggestCharts', [key], {});\n",
              "      } catch (error) {\n",
              "        console.error('Error during call to suggestCharts:', error);\n",
              "      }\n",
              "      quickchartButtonEl.classList.remove('colab-df-spinner');\n",
              "      quickchartButtonEl.classList.add('colab-df-quickchart-complete');\n",
              "    }\n",
              "    (() => {\n",
              "      let quickchartButtonEl =\n",
              "        document.querySelector('#df-2bb47a9f-91ff-4088-a8f2-b546c074741a button');\n",
              "      quickchartButtonEl.style.display =\n",
              "        google.colab.kernel.accessAllowed ? 'block' : 'none';\n",
              "    })();\n",
              "  </script>\n",
              "</div>\n",
              "\n",
              "    </div>\n",
              "  </div>\n"
            ],
            "application/vnd.google.colaboratory.intrinsic+json": {
              "type": "dataframe",
              "variable_name": "df_v3",
              "summary": "{\n  \"name\": \"df_v3\",\n  \"rows\": 10547,\n  \"fields\": [\n    {\n      \"column\": \"id\",\n      \"properties\": {\n        \"dtype\": \"number\",\n        \"std\": 329232,\n        \"min\": 5,\n        \"max\": 1377054,\n        \"num_unique_values\": 10547,\n        \"samples\": [\n          142061,\n          16962,\n          406994\n        ],\n        \"semantic_type\": \"\",\n        \"description\": \"\"\n      }\n    },\n    {\n      \"column\": \"title\",\n      \"properties\": {\n        \"dtype\": \"string\",\n        \"num_unique_values\": 10150,\n        \"samples\": [\n          \"Mechanic: Resurrection\",\n          \"Skinamarink\",\n          \"Rise of the Footsoldier\"\n        ],\n        \"semantic_type\": \"\",\n        \"description\": \"\"\n      }\n    },\n    {\n      \"column\": \"release_date\",\n      \"properties\": {\n        \"dtype\": \"object\",\n        \"num_unique_values\": 6670,\n        \"samples\": [\n          \"2001-11-01\",\n          \"2012-02-03\",\n          \"1963-08-13\"\n        ],\n        \"semantic_type\": \"\",\n        \"description\": \"\"\n      }\n    },\n    {\n      \"column\": \"runtime\",\n      \"properties\": {\n        \"dtype\": \"number\",\n        \"std\": 23,\n        \"min\": 0,\n        \"max\": 960,\n        \"num_unique_values\": 214,\n        \"samples\": [\n          90,\n          193,\n          167\n        ],\n        \"semantic_type\": \"\",\n        \"description\": \"\"\n      }\n    },\n    {\n      \"column\": \"genres\",\n      \"properties\": {\n        \"dtype\": \"category\",\n        \"num_unique_values\": 2329,\n        \"samples\": [\n          \"Drama, Animation, Science Fiction\",\n          \"Comedy, Mystery\",\n          \"Family, Science Fiction, Adventure\"\n        ],\n        \"semantic_type\": \"\",\n        \"description\": \"\"\n      }\n    },\n    {\n      \"column\": \"original_language\",\n      \"properties\": {\n        \"dtype\": \"category\",\n        \"num_unique_values\": 49,\n        \"samples\": [\n          \"uk\",\n          \"yi\",\n          \"kk\"\n        ],\n        \"semantic_type\": \"\",\n        \"description\": \"\"\n      }\n    },\n    {\n      \"column\": \"budget\",\n      \"properties\": {\n        \"dtype\": \"number\",\n        \"std\": 38453955,\n        \"min\": 0,\n        \"max\": 460000000,\n        \"num_unique_values\": 767,\n        \"samples\": [\n          5233963,\n          4800000,\n          417000\n        ],\n        \"semantic_type\": \"\",\n        \"description\": \"\"\n      }\n    },\n    {\n      \"column\": \"revenue\",\n      \"properties\": {\n        \"dtype\": \"number\",\n        \"std\": 153463357,\n        \"min\": 0,\n        \"max\": 2923706026,\n        \"num_unique_values\": 5824,\n        \"samples\": [\n          894844,\n          71142361,\n          235900000\n        ],\n        \"semantic_type\": \"\",\n        \"description\": \"\"\n      }\n    },\n    {\n      \"column\": \"popularity\",\n      \"properties\": {\n        \"dtype\": \"number\",\n        \"std\": 77.7876256954759,\n        \"min\": 9.088,\n        \"max\": 3930.216,\n        \"num_unique_values\": 9267,\n        \"samples\": [\n          15.468,\n          31.797,\n          30.671\n        ],\n        \"semantic_type\": \"\",\n        \"description\": \"\"\n      }\n    },\n    {\n      \"column\": \"vote_average\",\n      \"properties\": {\n        \"dtype\": \"number\",\n        \"std\": 0.9532047809831894,\n        \"min\": 0.0,\n        \"max\": 10.0,\n        \"num_unique_values\": 1715,\n        \"samples\": [\n          7.009,\n          5.77,\n          7.609\n        ],\n        \"semantic_type\": \"\",\n        \"description\": \"\"\n      }\n    },\n    {\n      \"column\": \"vote_count\",\n      \"properties\": {\n        \"dtype\": \"number\",\n        \"std\": 3085,\n        \"min\": 0,\n        \"max\": 36504,\n        \"num_unique_values\": 3653,\n        \"samples\": [\n          339,\n          696,\n          15565\n        ],\n        \"semantic_type\": \"\",\n        \"description\": \"\"\n      }\n    },\n    {\n      \"column\": \"cast\",\n      \"properties\": {\n        \"dtype\": \"string\",\n        \"num_unique_values\": 10547,\n        \"samples\": [\n          \"Peter Weller, Ariel Winter, David Selby, Michael Emerson, Mark Valley, Grey DeLisle, Frank Welker, Dee Bradley Baker, Michael McKean, James Patrick Stuart, Maria Canals-Barrera, Gwendoline Yeo, Danny Jacobs, Townsend Coleman, Michael Jackson, Bruce Timm, Tress MacNeille, Paget Brewster, Gary Anthony Williams, Conan O'Brien, Robin Atkin Downes, Yuri Lowenthal, Greg Eagles, Lex Lang, Jason Charles Miller, Andrea Romano, Andy Richter\",\n          \"Kelly Sheridan, Lee Tockar, Kathleen Barr, Christopher Gaze, Tabitha St. Germain, Venus Terzo, Andrew Francis, Sharon Alexander, Peter New, Nancy Sorel, Saffron Henderson, Andrea Libman, Lalainia Lindbjerg, Alistair Abell, Cathy Weseluck\",\n          \"Olivia DeJonge, Levi Miller, Ed Oxenbould, Aleks Mikic, Dacre Montgomery, Patrick Warburton, Virginia Madsen, Alexandra Matusko, Georgia Holland, Beau Andre, Michi Fifer, Tara Jade Borg, Tricia Mary Hennessy, Mary Clearkin, Hugo Monotti, Brendan Clearkin\"\n        ],\n        \"semantic_type\": \"\",\n        \"description\": \"\"\n      }\n    },\n    {\n      \"column\": \"crew\",\n      \"properties\": {\n        \"dtype\": \"string\",\n        \"num_unique_values\": 10547,\n        \"samples\": [\n          \"Matthew Humphreys, Bob Goodman, Christopher D. Lozinski, Meredith Layne, Jay Oliva, Frank Miller, Frank Miller, Michael Uslan, Sam Register, Bruce Timm, Benjamin Melniker, Alan Burnett, Christopher Drake\",\n          \"Luke Carroll, Ruth Handler, William Lau, Eric Colvin, Shaun Martens, Sylvain Blais, Cassandra Mackay, Dorian Pareis, Pamela Prostarr, Tiffany J. Shuttleworth, Paul Gertz, Jeremy Duayne Elzinga, Walter P. Martishius, Michael Dowding\",\n          \"Neil Sharma, John Duong, Tim Riach, Eric Cotton, Jackie Eade, Aron Walker, Michael Matthews, Chris Peckover, Zack Kahn, Chris Peckover, Zack Kahn, Sidonie Abbene, Brion Hambel, Paul Jensen, Brett Thornquest, Jacqui Fifer, Matthew Graham, Matthew Jennison, Steven Matusko, Shane Abbess, Lorenzo De Maio, Brian Cachia, Carl Robertson, Julie-Anne De Ruvo, Faith Martin, Richard Hobbs, Mark Dawson, Anna Cahill, Tori Gray, Tori Gray, Jodee Lenaine-Smith, Jodee Lenaine-Smith\"\n        ],\n        \"semantic_type\": \"\",\n        \"description\": \"\"\n      }\n    },\n    {\n      \"column\": \"production_companies\",\n      \"properties\": {\n        \"dtype\": \"string\",\n        \"num_unique_values\": 9029,\n        \"samples\": [\n          \"Kirk Shaw Productions, Prettybird, Silver State Production Services, DTLV Cinema Society, Goldfinch Australia, Highland Film Group\",\n          \"Fox 2000 Pictures, Zucker/Netter Productions\",\n          \"Cinemation Industries, Steve Krantz Productions, Aurica Finance Company, Fritz Productions, Metro-Goldwyn-Mayer\"\n        ],\n        \"semantic_type\": \"\",\n        \"description\": \"\"\n      }\n    },\n    {\n      \"column\": \"production_countries\",\n      \"properties\": {\n        \"dtype\": \"category\",\n        \"num_unique_values\": 909,\n        \"samples\": [\n          \"Serbia, United Kingdom\",\n          \"South Korea, Germany\",\n          \"France, Germany, Luxembourg\"\n        ],\n        \"semantic_type\": \"\",\n        \"description\": \"\"\n      }\n    }\n  ]\n}"
            }
          },
          "metadata": {},
          "execution_count": 26
        }
      ]
    },
    {
      "cell_type": "markdown",
      "source": [
        "Exibindo os atributos\n"
      ],
      "metadata": {
        "id": "Otda1FfWsBEH"
      }
    },
    {
      "source": [
        "import pandas as pd\n",
        "\n",
        "# Load the dataframe\n",
        "df_v3 = pd.read_csv('tmdb_v3.csv')\n",
        "\n",
        "# Display the attributes and their descriptions in a table\n",
        "# Get the list of attributes (column names) from the DataFrame\n",
        "attributes = df_v3.columns.tolist()\n",
        "\n",
        "# Define descriptions for each attribute, ensuring the list length matches the attributes list\n",
        "descriptions = [\n",
        "    'Identificador do filme',\n",
        "    'Título do filme',\n",
        "    'Data de lançamento do filme',\n",
        "    'Tempo de duração',\n",
        "    'Gêneros do filme',\n",
        "    'Idioma Original',\n",
        "    'Custo de produção',\n",
        "    'Arrecadação do filme',\n",
        "    'Popularidade do filme',\n",
        "    'Média do filme',\n",
        "    'Quantidade de votos',\n",
        "    'Elenco',\n",
        "    'Produção',\n",
        "    'País de produção',\n",
        "    'Companhias de produção'\n",
        "]\n",
        "\n",
        "# Adjust the descriptions list to match the number of attributes\n",
        "# If descriptions are shorter, add generic placeholders\n",
        "if len(descriptions) < len(attributes):\n",
        "    descriptions.extend(['Description not available'] * (len(attributes) - len(descriptions)))\n",
        "# If descriptions are longer, truncate the list\n",
        "elif len(descriptions) > len(attributes):\n",
        "    descriptions = descriptions[:len(attributes)]\n",
        "\n",
        "# Create a dictionary where keys are attribute names and values are descriptions\n",
        "attributes_data = {\n",
        "    'Atributos': attributes,\n",
        "    'Descrições': descriptions\n",
        "}\n",
        "\n",
        "# Create the DataFrame\n",
        "attributes_df = pd.DataFrame(attributes_data)\n",
        "print(attributes_df.to_string(index=False))"
      ],
      "cell_type": "code",
      "metadata": {
        "colab": {
          "base_uri": "https://localhost:8080/"
        },
        "id": "0pyJUXmds-yn",
        "outputId": "f3c3d684-cf03-4321-c85c-65be4f75ab04"
      },
      "execution_count": 32,
      "outputs": [
        {
          "output_type": "stream",
          "name": "stdout",
          "text": [
            "['id', 'title', 'release_date', 'runtime', 'genres', 'original_language', 'budget', 'revenue', 'popularity', 'vote_average', 'vote_count', 'cast', 'crew', 'production_companies', 'production_countries']\n",
            "           Atributos                  Descrições\n",
            "                  id      Identificador do filme\n",
            "               title             Título do filme\n",
            "        release_date Data de lançamento do filme\n",
            "             runtime            Tempo de duração\n",
            "              genres            Gêneros do filme\n",
            "   original_language             Idioma Original\n",
            "              budget           Custo de produção\n",
            "             revenue        Arrecadação do filme\n",
            "          popularity       Popularidade do filme\n",
            "        vote_average              Média do filme\n",
            "          vote_count         Quantidade de votos\n",
            "                cast                      Elenco\n",
            "                crew                    Produção\n",
            "production_companies            País de produção\n",
            "production_countries      Companhias de produção\n"
          ]
        }
      ]
    },
    {
      "cell_type": "code",
      "source": [
        "\n",
        "import pandas as pd\n",
        "import matplotlib.pyplot as plt\n",
        "import seaborn as sns\n",
        "\n",
        "# Load the dataframe\n",
        "df_v3 = pd.read_csv('tmdb_v3.csv')\n",
        "\n",
        "# Select numerical columns for correlation analysis\n",
        "numerical_cols = ['budget', 'revenue', 'popularity', 'vote_average', 'vote_count', 'runtime']\n",
        "df_numerical = df_v3[numerical_cols]\n",
        "\n",
        "# Calculate the correlation matrix\n",
        "correlation_matrix = df_numerical.corr()\n",
        "\n",
        "# Display the correlation matrix\n",
        "print(correlation_matrix)\n",
        "\n",
        "# Create a heatmap of the correlation matrix\n",
        "plt.figure(figsize=(10, 8))\n",
        "sns.heatmap(correlation_matrix, annot=True, cmap='coolwarm', fmt=\".2f\")\n",
        "plt.title('Correlation Matrix of TMDB Attributes')\n",
        "plt.show()\n"
      ],
      "metadata": {
        "colab": {
          "base_uri": "https://localhost:8080/",
          "height": 884
        },
        "id": "K9RvtpXsvc3X",
        "outputId": "c87740fd-e045-457a-e8bb-ca59a145673c"
      },
      "execution_count": 33,
      "outputs": [
        {
          "output_type": "stream",
          "name": "stdout",
          "text": [
            "                budget   revenue  popularity  vote_average  vote_count  \\\n",
            "budget        1.000000  0.744226    0.213772      0.099450    0.598500   \n",
            "revenue       0.744226  1.000000    0.225287      0.182437    0.750551   \n",
            "popularity    0.213772  0.225287    1.000000      0.094865    0.183917   \n",
            "vote_average  0.099450  0.182437    0.094865      1.000000    0.313764   \n",
            "vote_count    0.598500  0.750551    0.183917      0.313764    1.000000   \n",
            "runtime       0.263038  0.227052    0.061504      0.266939    0.241680   \n",
            "\n",
            "               runtime  \n",
            "budget        0.263038  \n",
            "revenue       0.227052  \n",
            "popularity    0.061504  \n",
            "vote_average  0.266939  \n",
            "vote_count    0.241680  \n",
            "runtime       1.000000  \n"
          ]
        },
        {
          "output_type": "display_data",
          "data": {
            "text/plain": [
              "<Figure size 1000x800 with 2 Axes>"
            ],
            "image/png": "[encoded data removed]"
          },
          "metadata": {}
        }
      ]
    }
  ]
}